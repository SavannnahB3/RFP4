{
 "cells": [
  {
   "cell_type": "code",
   "execution_count": 1,
   "metadata": {},
   "outputs": [
    {
     "name": "stdout",
     "output_type": "stream",
     "text": [
      "Requirement already satisfied: gymnasium[atari] in c:\\users\\ntorr\\appdata\\local\\packages\\pythonsoftwarefoundation.python.3.11_qbz5n2kfra8p0\\localcache\\local-packages\\python311\\site-packages (0.29.1)\n",
      "Requirement already satisfied: numpy>=1.21.0 in c:\\users\\ntorr\\appdata\\local\\packages\\pythonsoftwarefoundation.python.3.11_qbz5n2kfra8p0\\localcache\\local-packages\\python311\\site-packages (from gymnasium[atari]) (1.26.2)\n",
      "Requirement already satisfied: cloudpickle>=1.2.0 in c:\\users\\ntorr\\appdata\\local\\packages\\pythonsoftwarefoundation.python.3.11_qbz5n2kfra8p0\\localcache\\local-packages\\python311\\site-packages (from gymnasium[atari]) (3.0.0)\n",
      "Requirement already satisfied: typing-extensions>=4.3.0 in c:\\users\\ntorr\\appdata\\local\\packages\\pythonsoftwarefoundation.python.3.11_qbz5n2kfra8p0\\localcache\\local-packages\\python311\\site-packages (from gymnasium[atari]) (4.9.0)\n",
      "Requirement already satisfied: farama-notifications>=0.0.1 in c:\\users\\ntorr\\appdata\\local\\packages\\pythonsoftwarefoundation.python.3.11_qbz5n2kfra8p0\\localcache\\local-packages\\python311\\site-packages (from gymnasium[atari]) (0.0.4)\n",
      "Requirement already satisfied: shimmy<1.0,>=0.1.0 in c:\\users\\ntorr\\appdata\\local\\packages\\pythonsoftwarefoundation.python.3.11_qbz5n2kfra8p0\\localcache\\local-packages\\python311\\site-packages (from shimmy[atari]<1.0,>=0.1.0; extra == \"atari\"->gymnasium[atari]) (0.2.1)\n",
      "Requirement already satisfied: ale-py~=0.8.1 in c:\\users\\ntorr\\appdata\\local\\packages\\pythonsoftwarefoundation.python.3.11_qbz5n2kfra8p0\\localcache\\local-packages\\python311\\site-packages (from shimmy[atari]<1.0,>=0.1.0; extra == \"atari\"->gymnasium[atari]) (0.8.1)\n",
      "Requirement already satisfied: importlib-resources in c:\\users\\ntorr\\appdata\\local\\packages\\pythonsoftwarefoundation.python.3.11_qbz5n2kfra8p0\\localcache\\local-packages\\python311\\site-packages (from ale-py~=0.8.1->shimmy[atari]<1.0,>=0.1.0; extra == \"atari\"->gymnasium[atari]) (6.4.0)\n"
     ]
    }
   ],
   "source": []
  },
  {
   "cell_type": "code",
   "execution_count": 7,
   "metadata": {},
   "outputs": [
    {
     "name": "stdout",
     "output_type": "stream",
     "text": [
      "Episode 1 - Score: 105.0\n",
      "Episode 2 - Score: 125.0\n",
      "Episode 3 - Score: 180.0\n",
      "Episode 4 - Score: 20.0\n",
      "Episode 5 - Score: 70.0\n",
      "Average Score: 100.0\n"
     ]
    }
   ],
   "source": [
    "import gymnasium as gym\n",
    "import numpy as np\n",
    "\n",
    "enviros = gym.envs.registry\n",
    "env = gym.make('ALE/SpaceInvaders-v5',render_mode='human')\n",
    "env = gym.make('ALE/SpaceInvaders-v5')\n",
    "# Set the number of episodes\n",
    "num_episodes = 5\n",
    "\n",
    "# Create a list to store the scores of each episode\n",
    "episode_scores = []\n",
    "\n",
    "for episode in range(num_episodes):\n",
    "    #print(\"Frog, I choose you!\")\n",
    "    # Reset the environment for a new episode\n",
    "    state = env.reset()\n",
    "    total_reward = 0\n",
    "    \n",
    "    # Run the episode until it's done\n",
    "    done = False\n",
    "    while not done:\n",
    "        # Randomly choose an action\n",
    "        action = env.action_space.sample()\n",
    "        \n",
    "        # Take the action in the environment\n",
    "        new_state, reward, terminated, truncated, _ = env.step(action)\n",
    "        \n",
    "        # Accumulate the reward\n",
    "        total_reward += reward\n",
    "        if terminated:\n",
    "         #print(\"Frog died, He was not very fit\")\n",
    "         done = True\n",
    "        #print(total_reward)\n",
    "        # Update the state\n",
    "        state = new_state\n",
    "    \n",
    "    # Print the score of the episode and store it\n",
    "    print(f\"Episode {episode + 1} - Score: {total_reward}\")\n",
    "    episode_scores.append(total_reward)\n",
    "\n",
    "# Print the average score over all episodes\n",
    "print(\"Average Score:\", np.mean(episode_scores))"
   ]
  }
 ],
 "metadata": {
  "kernelspec": {
   "display_name": "Python 3",
   "language": "python",
   "name": "python3"
  },
  "language_info": {
   "codemirror_mode": {
    "name": "ipython",
    "version": 3
   },
   "file_extension": ".py",
   "mimetype": "text/x-python",
   "name": "python",
   "nbconvert_exporter": "python",
   "pygments_lexer": "ipython3",
   "version": "3.11.9"
  }
 },
 "nbformat": 4,
 "nbformat_minor": 2
}
